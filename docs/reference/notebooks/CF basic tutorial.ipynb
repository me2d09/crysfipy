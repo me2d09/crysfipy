{
 "cells": [
  {
   "cell_type": "code",
   "execution_count": 10,
   "metadata": {
    "collapsed": true
   },
   "outputs": [],
   "source": [
    "from crysfipy.reion import re, neutronint, susceptibility as susc\n",
    "import crysfipy.const as C\n",
    "import numpy as np\n",
    "\n",
    "np.set_printoptions(linewidth=130)\n",
    "np.set_printoptions(precision=2)"
   ]
  },
  {
   "cell_type": "markdown",
   "metadata": {},
   "source": [
    "### 1) const.py"
   ]
  },
  {
   "cell_type": "code",
   "execution_count": 13,
   "metadata": {},
   "outputs": [
    {
     "name": "stdout",
     "output_type": "stream",
     "text": [
      "Information about ce ion:\n",
      "*************************\n",
      "6 energy levels, J = 2.5, gJ = 0.857142857143\n",
      "alpha = -0.0571428571429, beta = 0.00634920634921, gamma = 0.0\n",
      "\n"
     ]
    }
   ],
   "source": [
    "template = \"\"\"Information about {0.name} ion:\n",
    "*************************\n",
    "{0.J2p1:.0f} energy levels, J = {0.J}, gJ = {0.gJ}\n",
    "alpha = {0.Alpha}, beta = {0.Beta}, gamma = {0.Gamma}\n",
    "\"\"\"\n",
    "print(template.format(C.ion(\"Ce\")))"
   ]
  },
  {
   "cell_type": "markdown",
   "metadata": {},
   "source": [
    "### 2) CF hamiltonian diagonalization"
   ]
  },
  {
   "cell_type": "code",
   "execution_count": 16,
   "metadata": {},
   "outputs": [
    {
     "name": "stdout",
     "output_type": "stream",
     "text": [
      "Energy levels:\n",
      "E(0) =\t0.0000\t 1fold-degenerated\n",
      "E(1) =\t0.4180\t 1fold-degenerated\n",
      "E(2) =\t2.0374\t 1fold-degenerated\n",
      "E(3) =\t2.0787\t 1fold-degenerated\n",
      "E(4) =\t3.5225\t 1fold-degenerated\n",
      "E(5) =\t4.7905\t 1fold-degenerated\n",
      "\n"
     ]
    }
   ],
   "source": [
    "# create reion object:\n",
    "ce = re(\"Ce\", [1,0,0], \n",
    "        [\"t\", -0.173477508,\n",
    "        0.001084591,\n",
    "        -0.012701252,\n",
    "        -3.34835E-06,\n",
    "        0.0000097,\n",
    "        ])\n",
    "ce.calculate()\n",
    "ce.getlevels()\n",
    "print(ce)"
   ]
  },
  {
   "cell_type": "markdown",
   "metadata": {},
   "source": [
    "### 3) Calculation of susceptibility"
   ]
  },
  {
   "cell_type": "code",
   "execution_count": 17,
   "metadata": {},
   "outputs": [
    {
     "name": "stdout",
     "output_type": "stream",
     "text": [
      "T = 5 K \tchi_CF = 0.0288552475141 uB/T\n",
      "T = 10 K \tchi_CF = 0.00716223624106 uB/T\n",
      "T = 50 K \tchi_CF = 0.000224584463989 uB/T\n",
      "T = 100 K \tchi_CF = 3.65918038894e-05 uB/T\n",
      "T = 300 K \tchi_CF = -4.60660668533e-06 uB/T\n"
     ]
    }
   ],
   "source": [
    "temps = [5,10,50,100,300]\n",
    "for T in temps:\n",
    "    print(\"T = {0} K \\tchi_CF = {1} uB/T\".format(T, susc(ce, T)))"
   ]
  },
  {
   "cell_type": "markdown",
   "metadata": {},
   "source": [
    "### 4) Neutron intensities"
   ]
  },
  {
   "cell_type": "code",
   "execution_count": 20,
   "metadata": {},
   "outputs": [],
   "source": [
    "# tbd"
   ]
  },
  {
   "cell_type": "code",
   "execution_count": null,
   "metadata": {
    "collapsed": true
   },
   "outputs": [],
   "source": []
  }
 ],
 "metadata": {
  "kernelspec": {
   "display_name": "py27",
   "language": "python",
   "name": "py27"
  },
  "language_info": {
   "codemirror_mode": {
    "name": "ipython",
    "version": 2
   },
   "file_extension": ".py",
   "mimetype": "text/x-python",
   "name": "python",
   "nbconvert_exporter": "python",
   "pygments_lexer": "ipython3",
   "version": "2.7.13"
  }
 },
 "nbformat": 4,
 "nbformat_minor": 2
}
